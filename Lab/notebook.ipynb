{
 "cells": [
  {
   "cell_type": "code",
   "execution_count": 1,
   "metadata": {},
   "outputs": [],
   "source": [
    "# Imports\n",
    "import numpy as np"
   ]
  },
  {
   "cell_type": "markdown",
   "metadata": {},
   "source": [
    "### Exercise 3.1\n",
    "`G1 = 1/R1; G2 = 1/R2; G3 = 1/R3; G4 = 1/R4; G5 = 1/R5`\n",
    "\n",
    "Put nodes on left of R5, `e1`, and on right of R5, `e2`.\n",
    "- `e1`: $(V - e_1)G_1 + (0 - e_1)G_2 + (i) = 0$\n",
    "- `e2`: $(V - e_2)G_3 + (0 - e_2)G_4 - i = 0$\n",
    "\n",
    "Where $i = (e_2 - e_1)G_5$\n",
    "\n",
    "Solve the linear equation with two unknowns: $e_1$ and $e_2$\n",
    "- `Node e1`: $(4e_2 - 7e_1 = -4)$\n",
    "- `Node e2`: $(-11e_2 + 6e_1 = -4)$"
   ]
  },
  {
   "cell_type": "code",
   "execution_count": 3,
   "metadata": {},
   "outputs": [
    {
     "name": "stdout",
     "output_type": "stream",
     "text": [
      "The nodes are:  [0.98113208 1.13207547]\n",
      "The current is:  0.15094339622641506\n"
     ]
    }
   ],
   "source": [
    "# Exercise 3.1\n",
    "'''Solving the equation by separating to a the form Ax = b'''\n",
    "A = np.array([[4, -7], \n",
    "              [-11, 6]])\n",
    "\n",
    "b = np.array([-4, -4])\n",
    "\n",
    "nodes = np.linalg.solve(A, b)\n",
    "print(\"The nodes are: \", nodes)\n",
    "\n",
    "current = nodes[1] - nodes[0]\n",
    "print(\"The current is: \", current)"
   ]
  },
  {
   "cell_type": "code",
   "execution_count": 7,
   "metadata": {},
   "outputs": [
    {
     "name": "stdout",
     "output_type": "stream",
     "text": [
      "The current is 0.150943396226415\n"
     ]
    }
   ],
   "source": [
    "'''\n",
    "Solving this equation using sympy:\n",
    "1. Define the variables, using sympy.symbols()\n",
    "2. Define the equations using symbols, using sympy.Eq()\n",
    "3. Solve the equations using sympy.solve()\n",
    "'''\n",
    "import sympy as sp \n",
    "e1, e2 = sp.symbols('e1 e2')\n",
    "eq1 = sp.Eq(4*e1 - 7*e2, -4)\n",
    "eq2 = sp.Eq(-11*e1 + 6*e2, -4)\n",
    "solution = sp.solve((eq1, eq2), (e1, e2))\n",
    "\n",
    "e1_decimal = solution[e1].evalf()\n",
    "e2_decimal = solution[e2].evalf()\n",
    "\n",
    "print(f\"The current is {e2_decimal - e1_decimal}\")"
   ]
  },
  {
   "cell_type": "markdown",
   "metadata": {},
   "source": [
    "### Exercise 3.2\n",
    "##### Network top\n",
    "1. Short the output terminals by adding a wire in parallel to the 2 ohm resistor.\n",
    "\n",
    "$$I_N = \\frac{5}{3}A$$\n",
    "\n",
    "2. Replace the Voltage source with a short circuit.\n",
    "\n",
    "$$R_N = (G1 + G2)^{-1} = (\\frac{1}{3} + \\frac{1}{2})^{-1} = 1.2 \\Omega$$\n",
    "##### Network bottom\n",
    "1. Short the output terminals:\n",
    "$$I_N = I_S$$\n",
    "The voltage source is independent from the current source.\n",
    "2. Replace the Voltage source with a short circuit.\n",
    "$$R_N = (G_1 + G_2)^(-1)$$"
   ]
  },
  {
   "cell_type": "markdown",
   "metadata": {},
   "source": [
    "### Exercise 3.3 \n",
    "##### Network left\n",
    "1. Temporarily remove the load resistor and calculate the Resistance\n",
    "$$R_{th} = $$\n",
    "2. Open the load-resistor circuit to calculate the voltage"
   ]
  },
  {
   "cell_type": "code",
   "execution_count": null,
   "metadata": {},
   "outputs": [],
   "source": []
  }
 ],
 "metadata": {
  "kernelspec": {
   "display_name": ".venv",
   "language": "python",
   "name": "python3"
  },
  "language_info": {
   "codemirror_mode": {
    "name": "ipython",
    "version": 3
   },
   "file_extension": ".py",
   "mimetype": "text/x-python",
   "name": "python",
   "nbconvert_exporter": "python",
   "pygments_lexer": "ipython3",
   "version": "3.12.4"
  }
 },
 "nbformat": 4,
 "nbformat_minor": 2
}
