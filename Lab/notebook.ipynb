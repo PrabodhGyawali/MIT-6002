{
 "cells": [
  {
   "cell_type": "code",
   "execution_count": 1,
   "metadata": {},
   "outputs": [],
   "source": [
    "# Imports\n",
    "import numpy as np"
   ]
  },
  {
   "cell_type": "markdown",
   "metadata": {},
   "source": [
    "### Exercise 3.1\n",
    "`G1 = 1/R1; G2 = 1/R2; G3 = 1/R3; G4 = 1/R4; G5 = 1/R5`\n",
    "\n",
    "Put nodes on left of R5, `e1`, and on right of R5, `e2`.\n",
    "- `e1`: $(V - e_1)G_1 + (0 - e_1)G_2 + (i) = 0$\n",
    "- `e2`: $(V - e_2)G_3 + (0 - e_2)G_4 - i = 0$\n",
    "\n",
    "Where $i = (e_2 - e_1)G_5$\n",
    "\n",
    "Solve the linear equation with two unknowns: $e_1$ and $e_2$\n",
    "- `Node e1`: $(4e_2 - 7e_1 = -4)$\n",
    "- `Node e2`: $(-11e_2 + 6e_1 = -4)$"
   ]
  },
  {
   "cell_type": "code",
   "execution_count": 4,
   "metadata": {},
   "outputs": [],
   "source": [
    "# Exercise 3.1\n",
    "'''Solving the equation by separating to a the form Ax = b'''\n",
    "A = np.array([[4, -7], \n",
    "              [-11, 6]])\n",
    "\n",
    "b = np.array([-4, -4])\n",
    "\n",
    "nodes = np.lin"
   ]
  }
 ],
 "metadata": {
  "kernelspec": {
   "display_name": ".venv",
   "language": "python",
   "name": "python3"
  },
  "language_info": {
   "codemirror_mode": {
    "name": "ipython",
    "version": 3
   },
   "file_extension": ".py",
   "mimetype": "text/x-python",
   "name": "python",
   "nbconvert_exporter": "python",
   "pygments_lexer": "ipython3",
   "version": "3.12.4"
  }
 },
 "nbformat": 4,
 "nbformat_minor": 2
}
